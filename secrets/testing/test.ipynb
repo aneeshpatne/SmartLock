{
 "cells": [
  {
   "cell_type": "code",
   "execution_count": null,
   "id": "c08ac7e3",
   "metadata": {},
   "outputs": [],
   "source": [
    "import secrets, base64\n",
    "import qrcode"
   ]
  },
  {
   "cell_type": "code",
   "execution_count": 18,
   "id": "fdcd616f",
   "metadata": {},
   "outputs": [
    {
     "data": {
      "text/plain": [
       "'4G7GRYOLGTWWBUHNH3WECJ5IVR5PBRUO'"
      ]
     },
     "execution_count": 18,
     "metadata": {},
     "output_type": "execute_result"
    }
   ],
   "source": [
    "bytes = secrets.token_bytes(20)\n",
    "base32 = base64.b32encode(bytes).decode().rstrip(\"=\")\n",
    "base32"
   ]
  }
 ],
 "metadata": {
  "kernelspec": {
   "display_name": ".venv (3.12.3)",
   "language": "python",
   "name": "python3"
  },
  "language_info": {
   "codemirror_mode": {
    "name": "ipython",
    "version": 3
   },
   "file_extension": ".py",
   "mimetype": "text/x-python",
   "name": "python",
   "nbconvert_exporter": "python",
   "pygments_lexer": "ipython3",
   "version": "3.12.3"
  }
 },
 "nbformat": 4,
 "nbformat_minor": 5
}
