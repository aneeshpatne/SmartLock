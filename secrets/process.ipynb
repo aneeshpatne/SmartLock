{
 "cells": [
  {
   "cell_type": "code",
   "execution_count": 5,
   "id": "d3f588f8",
   "metadata": {},
   "outputs": [],
   "source": [
    "import secrets, base64"
   ]
  },
  {
   "cell_type": "markdown",
   "id": "e9e9e719",
   "metadata": {},
   "source": [
    "Step 1: Generate a secret key"
   ]
  },
  {
   "cell_type": "code",
   "execution_count": 12,
   "id": "714ff2f1",
   "metadata": {},
   "outputs": [
    {
     "data": {
      "text/plain": [
       "'XSG7YLAYSP5GEYFEDETJ4LXMIKFGIOH3'"
      ]
     },
     "execution_count": 12,
     "metadata": {},
     "output_type": "execute_result"
    }
   ],
   "source": [
    "def makeSecret():\n",
    "    secret = secrets.token_bytes(20)\n",
    "    base32 = base64.b32encode(secret).decode(\"utf-8\").replace(\"=\",\"\")\n",
    "    return base32\n",
    "makeSecret()"
   ]
  },
  {
   "cell_type": "markdown",
   "id": "83a57df8",
   "metadata": {},
   "source": [
    "Step 2: Make a QR code URL"
   ]
  },
  {
   "cell_type": "code",
   "execution_count": null,
   "id": "c3728d53",
   "metadata": {},
   "outputs": [],
   "source": [
    "URI = f\"otpauth://totp/<Issuer>:<Account>?secret=<BASE32>&issuer=<Issuer>&algorithm=SHA1&digits=6&period=30\"\n"
   ]
  }
 ],
 "metadata": {
  "kernelspec": {
   "display_name": ".venv (3.12.3)",
   "language": "python",
   "name": "python3"
  },
  "language_info": {
   "codemirror_mode": {
    "name": "ipython",
    "version": 3
   },
   "file_extension": ".py",
   "mimetype": "text/x-python",
   "name": "python",
   "nbconvert_exporter": "python",
   "pygments_lexer": "ipython3",
   "version": "3.12.3"
  }
 },
 "nbformat": 4,
 "nbformat_minor": 5
}
