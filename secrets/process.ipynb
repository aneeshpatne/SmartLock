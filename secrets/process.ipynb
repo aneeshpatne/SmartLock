{
 "cells": [
  {
   "cell_type": "code",
   "execution_count": 1,
   "id": "372b9b30",
   "metadata": {},
   "outputs": [],
   "source": [
    "import secrets, base64, qrcode, time, struct, hmac, hashlib"
   ]
  },
  {
   "cell_type": "markdown",
   "id": "4e8d0979",
   "metadata": {},
   "source": [
    "### Generate a secret key"
   ]
  },
  {
   "cell_type": "code",
   "execution_count": 6,
   "id": "c5151e99",
   "metadata": {},
   "outputs": [],
   "source": [
    "def generate_secret(length: int = 20):\n",
    "    secret_bytes = secrets.token_bytes(length)\n",
    "    #Convert to base32\n",
    "    base32 = base64.b32encode(secret_bytes).decode('utf-8')\n",
    "    return secret_bytes, base32"
   ]
  },
  {
   "cell_type": "code",
   "execution_count": null,
   "id": "b3cec705",
   "metadata": {},
   "outputs": [],
   "source": []
  },
  {
   "cell_type": "markdown",
   "id": "b6ddb36f",
   "metadata": {},
   "source": [
    "### Genrate a URI\n"
   ]
  },
  {
   "cell_type": "code",
   "execution_count": 8,
   "id": "8120d744",
   "metadata": {},
   "outputs": [
    {
     "name": "stdout",
     "output_type": "stream",
     "text": [
      "b'\\xe2`\\xae;S\\xf35\\xdb\\t\\xe0\\xd3\\xdf)\\xdf\\x04qiV\\xc7\\xa7' 4JQK4O2T6M25WCPA2PPSTXYEOFUVNR5H\n"
     ]
    }
   ],
   "source": [
    "secret_bytes, base32 = generate_secret()\n",
    "print(secret_bytes, base32)"
   ]
  }
 ],
 "metadata": {
  "kernelspec": {
   "display_name": ".venv (3.12.3)",
   "language": "python",
   "name": "python3"
  },
  "language_info": {
   "codemirror_mode": {
    "name": "ipython",
    "version": 3
   },
   "file_extension": ".py",
   "mimetype": "text/x-python",
   "name": "python",
   "nbconvert_exporter": "python",
   "pygments_lexer": "ipython3",
   "version": "3.12.3"
  }
 },
 "nbformat": 4,
 "nbformat_minor": 5
}
