{
 "cells": [
  {
   "cell_type": "code",
   "execution_count": null,
   "id": "d3f588f8",
   "metadata": {},
   "outputs": [],
   "source": [
    "import secrets, base64"
   ]
  },
  {
   "cell_type": "markdown",
   "id": "e9e9e719",
   "metadata": {},
   "source": [
    "Step 1: Make Secret\n"
   ]
  },
  {
   "cell_type": "code",
   "execution_count": 4,
   "id": "714ff2f1",
   "metadata": {},
   "outputs": [
    {
     "data": {
      "text/plain": [
       "b'Z\\t6\\xc6\\xd2p\\x04t\\x05\\xb6=)\\n\\x7f\\x00^\\x02\\xf0\\x8b\\xf2'"
      ]
     },
     "execution_count": 4,
     "metadata": {},
     "output_type": "execute_result"
    }
   ],
   "source": [
    "secret = secrets.token_bytes(20)\n",
    "secret"
   ]
  }
 ],
 "metadata": {
  "kernelspec": {
   "display_name": ".venv (3.12.3)",
   "language": "python",
   "name": "python3"
  },
  "language_info": {
   "codemirror_mode": {
    "name": "ipython",
    "version": 3
   },
   "file_extension": ".py",
   "mimetype": "text/x-python",
   "name": "python",
   "nbconvert_exporter": "python",
   "pygments_lexer": "ipython3",
   "version": "3.12.3"
  }
 },
 "nbformat": 4,
 "nbformat_minor": 5
}
