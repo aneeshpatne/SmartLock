{
 "cells": [
  {
   "cell_type": "code",
   "execution_count": 1,
   "id": "372b9b30",
   "metadata": {},
   "outputs": [],
   "source": [
    "import secrets, base64, qrcode, time, struct, hmac, hashlib"
   ]
  },
  {
   "cell_type": "markdown",
   "id": "4e8d0979",
   "metadata": {},
   "source": [
    "### Generate a secret key"
   ]
  },
  {
   "cell_type": "code",
   "execution_count": null,
   "id": "c5151e99",
   "metadata": {},
   "outputs": [
    {
     "ename": "SyntaxError",
     "evalue": "invalid syntax. Perhaps you forgot a comma? (514069040.py, line 1)",
     "output_type": "error",
     "traceback": [
      "  \u001b[36mCell\u001b[39m\u001b[36m \u001b[39m\u001b[32mIn[3]\u001b[39m\u001b[32m, line 1\u001b[39m\n\u001b[31m    \u001b[39m\u001b[31mdef generate_secret(length: int 20):\u001b[39m\n                                ^\n\u001b[31mSyntaxError\u001b[39m\u001b[31m:\u001b[39m invalid syntax. Perhaps you forgot a comma?\n"
     ]
    }
   ],
   "source": [
    "def generate_secret(length: int = 20):\n",
    "    secret_bytes = secrets.token_bytes(length)\n",
    "    #Convert to base32\n",
    "    base32 = base64.b32encode(secret_bytes).decode('utf-8')\n",
    "    return base32"
   ]
  }
 ],
 "metadata": {
  "kernelspec": {
   "display_name": ".venv (3.12.3)",
   "language": "python",
   "name": "python3"
  },
  "language_info": {
   "codemirror_mode": {
    "name": "ipython",
    "version": 3
   },
   "file_extension": ".py",
   "mimetype": "text/x-python",
   "name": "python",
   "nbconvert_exporter": "python",
   "pygments_lexer": "ipython3",
   "version": "3.12.3"
  }
 },
 "nbformat": 4,
 "nbformat_minor": 5
}
